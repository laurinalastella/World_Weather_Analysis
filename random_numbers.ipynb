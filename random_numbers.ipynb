{
 "cells": [
  {
   "cell_type": "code",
   "execution_count": 1,
   "id": "0d150805",
   "metadata": {},
   "outputs": [],
   "source": [
    "# Import the random module.\n",
    "import random"
   ]
  },
  {
   "cell_type": "code",
   "execution_count": 2,
   "id": "60b6af95",
   "metadata": {},
   "outputs": [
    {
     "data": {
      "text/plain": [
       "8"
      ]
     },
     "execution_count": 2,
     "metadata": {},
     "output_type": "execute_result"
    }
   ],
   "source": [
    "random.randint(-90, 90)"
   ]
  },
  {
   "cell_type": "code",
   "execution_count": 3,
   "id": "4c3bf640",
   "metadata": {},
   "outputs": [
    {
     "data": {
      "text/plain": [
       "0.022280265956662992"
      ]
     },
     "execution_count": 3,
     "metadata": {},
     "output_type": "execute_result"
    }
   ],
   "source": [
    "random.random()"
   ]
  },
  {
   "cell_type": "code",
   "execution_count": 7,
   "id": "65b4ef42",
   "metadata": {},
   "outputs": [
    {
     "data": {
      "text/plain": [
       "-90"
      ]
     },
     "execution_count": 7,
     "metadata": {},
     "output_type": "execute_result"
    }
   ],
   "source": [
    "random.randrange(-90, 90, step=3)"
   ]
  },
  {
   "cell_type": "code",
   "execution_count": 8,
   "id": "9093af28",
   "metadata": {},
   "outputs": [
    {
     "data": {
      "text/plain": [
       "-75.87989324523761"
      ]
     },
     "execution_count": 8,
     "metadata": {},
     "output_type": "execute_result"
    }
   ],
   "source": [
    "random.uniform(-90, 90)"
   ]
  },
  {
   "cell_type": "code",
   "execution_count": 9,
   "id": "c2e93fe6",
   "metadata": {},
   "outputs": [],
   "source": [
    "# Import the NumPy module.\n",
    "# NOTE\n",
    "# The NumPy module has a built-in random module, and supplements \n",
    "# the built-in Python random module. There is no need to import the \n",
    "# random module if we import the NumPy module, as it's redundant.\n",
    "import numpy as np"
   ]
  },
  {
   "cell_type": "code",
   "execution_count": 11,
   "id": "134ab75e",
   "metadata": {},
   "outputs": [
    {
     "data": {
      "text/plain": [
       "9.896515476145211"
      ]
     },
     "execution_count": 11,
     "metadata": {},
     "output_type": "execute_result"
    }
   ],
   "source": [
    "np.random.uniform(-90.000, 90.000)\n",
    "\n",
    "# Another option is to write the \n",
    "# parameters as np.random.uniform(low=-90, high=90)."
   ]
  },
  {
   "cell_type": "code",
   "execution_count": 12,
   "id": "771cbbe6",
   "metadata": {},
   "outputs": [
    {
     "data": {
      "text/plain": [
       "array([-89.13628787,  37.30421033, -40.87463282, -76.67209732,\n",
       "       -20.72690413,  23.38861937,  71.34124676,  40.22422883,\n",
       "        51.75487222, -61.85426982,  26.72477987,  71.86676619,\n",
       "         6.04542691,   3.87561894, -16.01678904,  81.22174819,\n",
       "        50.33531458,  -6.582369  , -16.89018047, -11.84807919,\n",
       "       -48.30193156,  -3.15628594,  40.53321971, -71.24812312,\n",
       "        78.33795133,  67.27779209,  39.9252396 ,  15.94893472,\n",
       "        64.81020811,  66.86744066,  76.20093018, -54.46075022,\n",
       "        29.76373963,  -9.28972456, -87.06856428,  33.36116174,\n",
       "       -79.89574002, -38.56073806,   9.28959912,  86.7319962 ,\n",
       "       -74.63972632, -19.22595827, -19.80576379, -13.79480765,\n",
       "        56.77555255,  56.47485385,  82.68050995, -52.89472287,\n",
       "        11.2812892 ,  51.20544015])"
      ]
     },
     "execution_count": 12,
     "metadata": {},
     "output_type": "execute_result"
    }
   ],
   "source": [
    "np.random.uniform(-90.000, 90.000, size=50)"
   ]
  },
  {
   "cell_type": "code",
   "execution_count": 13,
   "id": "60a00cc0",
   "metadata": {},
   "outputs": [],
   "source": [
    "# Import timeit.\n",
    "import timeit"
   ]
  },
  {
   "cell_type": "code",
   "execution_count": 14,
   "id": "f85da1e9",
   "metadata": {},
   "outputs": [
    {
     "name": "stdout",
     "output_type": "stream",
     "text": [
      "34.9 µs ± 1.86 µs per loop (mean ± std. dev. of 7 runs, 10000 loops each)\n"
     ]
    }
   ],
   "source": [
    "%timeit np.random.uniform(-90.000, 90.000, size=1500)"
   ]
  },
  {
   "cell_type": "code",
   "execution_count": 15,
   "id": "92e01a78",
   "metadata": {},
   "outputs": [
    {
     "name": "stdout",
     "output_type": "stream",
     "text": [
      "4.7 ms ± 461 µs per loop (mean ± std. dev. of 7 runs, 100 loops each)\n"
     ]
    }
   ],
   "source": [
    "# def latitudes(size):\n",
    "#     latitudes = []\n",
    "#     x = 0\n",
    "#     while x < (size):\n",
    "#         random_lat = random.randint(-90, 90) + random.random()\n",
    "#         latitudes.append(random_lat)\n",
    "#         x += 1\n",
    "#     return latitudes\n",
    "# # Call the function with 1500.\n",
    "# %timeit latitudes(1500)"
   ]
  },
  {
   "cell_type": "code",
   "execution_count": null,
   "id": "091351c6",
   "metadata": {},
   "outputs": [],
   "source": []
  }
 ],
 "metadata": {
  "kernelspec": {
   "display_name": "Python 3 (ipykernel)",
   "language": "python",
   "name": "python3"
  },
  "language_info": {
   "codemirror_mode": {
    "name": "ipython",
    "version": 3
   },
   "file_extension": ".py",
   "mimetype": "text/x-python",
   "name": "python",
   "nbconvert_exporter": "python",
   "pygments_lexer": "ipython3",
   "version": "3.7.13"
  }
 },
 "nbformat": 4,
 "nbformat_minor": 5
}
